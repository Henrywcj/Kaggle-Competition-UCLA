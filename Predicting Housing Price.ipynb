{
 "cells": [
  {
   "cell_type": "code",
   "execution_count": 49,
   "metadata": {},
   "outputs": [],
   "source": [
    "# load the libraries we are using \n",
    "import numpy as np \n",
    "import pandas as pd\n",
    "import matplotlib.pyplot as plt\n",
    "import scipy \n",
    "import sklearn\n",
    "from sklearn.preprocessing import LabelEncoder\n",
    "\n",
    "%matplotlib inline "
   ]
  },
  {
   "cell_type": "code",
   "execution_count": 50,
   "metadata": {},
   "outputs": [],
   "source": [
    "# load the data\n",
    "train_data_frame = pd.read_csv(\"train.csv\", index_col = 0)\n",
    "test_data_frame = pd.read_csv(\"test.csv\", index_col = 0)"
   ]
  },
  {
   "cell_type": "code",
   "execution_count": 51,
   "metadata": {},
   "outputs": [
    {
     "name": "stdout",
     "output_type": "stream",
     "text": [
      "      MSSubClass MSZoning  LotFrontage  LotArea Street Alley LotShape  \\\n",
      "Id                                                                      \n",
      "524           60       RL        130.0    40094   Pave   NaN      IR1   \n",
      "692           60       RL        104.0    21535   Pave   NaN      IR1   \n",
      "1183          60       RL        160.0    15623   Pave   NaN      IR1   \n",
      "1299          60       RL        313.0    63887   Pave   NaN      IR3   \n",
      "\n",
      "     LandContour Utilities LotConfig    ...     PoolArea PoolQC  Fence  \\\n",
      "Id                                      ...                              \n",
      "524          Bnk    AllPub    Inside    ...            0    NaN    NaN   \n",
      "692          Lvl    AllPub    Corner    ...            0    NaN    NaN   \n",
      "1183         Lvl    AllPub    Corner    ...          555     Ex  MnPrv   \n",
      "1299         Bnk    AllPub    Corner    ...          480     Gd    NaN   \n",
      "\n",
      "     MiscFeature MiscVal MoSold  YrSold  SaleType  SaleCondition  SalePrice  \n",
      "Id                                                                           \n",
      "524          NaN       0     10    2007       New        Partial     184750  \n",
      "692          NaN       0      1    2007        WD         Normal     755000  \n",
      "1183         NaN       0      7    2007        WD        Abnorml     745000  \n",
      "1299         NaN       0      1    2008       New        Partial     160000  \n",
      "\n",
      "[4 rows x 80 columns]\n"
     ]
    },
    {
     "data": {
      "image/png": "[encoded data removed]",
      "text/plain": [
       "<matplotlib.figure.Figure at 0x114abf390>"
      ]
     },
     "metadata": {},
     "output_type": "display_data"
    }
   ],
   "source": [
    "# dealing with outliers\n",
    "plt.hist(train_data_frame[\"GrLivArea\"])\n",
    "print (train_data_frame[train_data_frame[\"GrLivArea\"]>4000])\n",
    "# a few houses has general living area more than 4000, we drop it (TODO: other variables \n",
    "train_data_frame.drop(train_data_frame[train_data_frame[\"GrLivArea\"]>4000].index, inplace=True)"
   ]
  },
  {
   "cell_type": "code",
   "execution_count": 52,
   "metadata": {},
   "outputs": [],
   "source": [
    "# drop columns according to the rules below: \n",
    "# 1. drop \"LotFrontage\": to many NA values (use alternative, preserve information)\n",
    "# 2. drop \"MSSubClass\": information already reflected in other variables (e.g. BldgType, HouseStyle, YearBuilt, YearRemodAdd)\n",
    "# 3. drop \"Utilities\": testing data all the same - AllPub (No information)\n",
    "train_data_frame_trimmed = train_data_frame.drop(['MSSubClass', 'Utilities'], axis = 1)\n",
    "# do the same to test dataset \n",
    "test_data_frame_trimmed = test_data_frame.drop(['MSSubClass', 'Utilities'], axis = 1)\n",
    "\n",
    "# Alternatively, filling LotFrontage with median based on neighborhood\n",
    "lot_frontage_group_train = train_data_frame['LotFrontage'].groupby(train_data_frame[\"Neighborhood\"])\n",
    "for key, group in lot_frontage_group_train: \n",
    "    flag = (train_data_frame_trimmed['Neighborhood'] == key) & (train_data_frame_trimmed['LotFrontage'].isnull())\n",
    "    train_data_frame_trimmed.loc[flag, 'LotFrontage'] = group.median()\n",
    "# do it the testing in the same way\n",
    "lot_frontage_group_test = test_data_frame['LotFrontage'].groupby(test_data_frame[\"Neighborhood\"])\n",
    "for key, group in lot_frontage_group_test: \n",
    "    flag = (test_data_frame_trimmed['Neighborhood'] == key) & (test_data_frame_trimmed['LotFrontage'].isnull())\n",
    "    test_data_frame_trimmed.loc[flag, 'LotFrontage'] = group.median()"
   ]
  },
  {
   "cell_type": "code",
   "execution_count": 53,
   "metadata": {},
   "outputs": [],
   "source": [
    "# Factorize categorical features into ordinal numbers\n",
    "# @param df: original dataframe\n",
    "# @param factor_df: dataframe containing categorical variables needed to be transformed \n",
    "# @param column: list of categorical variables' name \n",
    "# @param fill_na: whether need to fill NA in categorical variable \n",
    "# @return factor_df: dataframe after factorization \n",
    "le = LabelEncoder()\n",
    "def factorize(df, factor_df, column, fill_na=None):\n",
    "    factor_df[column] = df[column]\n",
    "    if fill_na is not None:\n",
    "        factor_df[column].fillna(fill_na, inplace=True)\n",
    "    le.fit(factor_df[column].unique())\n",
    "    factor_df[column] = le.transform(factor_df[column])\n",
    "    return factor_df"
   ]
  },
  {
   "cell_type": "code",
   "execution_count": 54,
   "metadata": {},
   "outputs": [],
   "source": [
    "# Deal with NA in columns\n",
    "# first deal with numerical columns\n",
    "train_data_frame_trimmed['MasVnrArea'].fillna(0.0, inplace = True)\n",
    "train_data_frame_trimmed['GarageYrBlt'].fillna(1980.0, inplace = True)\n",
    "test_data_frame_trimmed['MasVnrArea'].fillna(0.0, inplace = True)\n",
    "test_data_frame_trimmed['GarageYrBlt'].fillna(1980.0, inplace = True)"
   ]
  },
  {
   "cell_type": "code",
   "execution_count": 55,
   "metadata": {},
   "outputs": [],
   "source": [
    "# some of the NAs are created because the house doesn't have the feature, rather than missing data\n",
    "# for ordinal columns, transform it into numbers\n",
    "# With Missing values\n",
    "\n",
    "levels = {'No' : 0, \"Po\": 1, \"Fa\": 2, \"TA\": 3, \"Gd\": 4, \"Ex\": 5}\n",
    "ord_list = ['GarageQual','GarageCond','FireplaceQu', 'BsmtCond', 'BsmtQual', 'PoolQC']\n",
    "for name in ord_list:\n",
    "    train_data_frame_trimmed[name].fillna('No', inplace = True)\n",
    "    train_data_frame_trimmed[name] = train_data_frame_trimmed[name].map(levels).astype(int)\n",
    "    \n",
    "train_data_frame_trimmed['BsmtExposure'].fillna('N', inplace = True)\n",
    "train_data_frame_trimmed['BsmtExposure'] = train_data_frame_trimmed['BsmtExposure'].map(\n",
    "    {'N': 0, \"No\": 1, \"Mn\": 2, \"Av\": 3, \"Gd\": 4}).astype(int)\n",
    "\n",
    "levels_2 = {'N': 0, \"Unf\": 1, \"LwQ\": 2, \"Rec\": 3, \"BLQ\": 4, \"ALQ\": 5, \"GLQ\": 6}\n",
    "train_data_frame_trimmed['BsmtFinType1'].fillna('N', inplace = True)\n",
    "train_data_frame_trimmed['BsmtFinType1'] = train_data_frame_trimmed['BsmtFinType1'].map(levels_2).astype(int)\n",
    "train_data_frame_trimmed['BsmtFinType2'].fillna('N', inplace = True)\n",
    "train_data_frame_trimmed['BsmtFinType2'] = train_data_frame_trimmed['BsmtFinType2'].map(levels_2).astype(int)\n",
    "\n",
    "train_data_frame_trimmed['GarageFinish'].fillna('N', inplace = True)\n",
    "train_data_frame_trimmed['GarageFinish'] = train_data_frame_trimmed['GarageFinish'].map(\n",
    "    {'N': 0, \"Unf\": 1, \"RFn\": 2, \"Fin\": 3}).astype(int)\n",
    "\n",
    "\n",
    "train_data_frame_trimmed['Fence'].fillna('N', inplace = True)\n",
    "train_data_frame_trimmed['Fence'] = train_data_frame_trimmed['Fence'].map(\n",
    "    {'N': 0, \"MnWw\": 1, \"GdWo\": 2, \"MnPrv\": 3, \"GdPrv\": 4}).astype(int)\n",
    "# without missing values, but clearly ordinal \n",
    "ordinal_list = ['ExterQual','ExterCond','HeatingQC', 'KitchenQual']\n",
    "for name in ordinal_list: \n",
    "    train_data_frame_trimmed[name] = train_data_frame_trimmed[name].map(levels).astype(int)\n",
    "\n",
    "train_data_frame_trimmed['Functional'] = train_data_frame_trimmed['Functional'].map(\n",
    "    {None: 0, \"Sal\": 1, \"Sev\": 2, \"Maj2\": 3, \"Maj1\": 4, \n",
    "         \"Mod\": 5, \"Min2\": 6, \"Min1\": 7, \"Typ\": 8}).astype(int)"
   ]
  },
  {
   "cell_type": "code",
   "execution_count": 56,
   "metadata": {},
   "outputs": [],
   "source": [
    "# Specialized treatment for test dataset\n",
    "test_data_frame_trimmed['MSZoning'].fillna('RL', inplace = True) # mode\n",
    "test_data_frame_trimmed['Exterior1st'].fillna('Viny1Sd', inplace = True) # mode\n",
    "test_data_frame_trimmed['Exterior2nd'].fillna('VinylSd', inplace = True) # mode\n",
    "test_data_frame_trimmed['BsmtFinSF1'].fillna(439.0, inplace = True) #mean\n",
    "test_data_frame_trimmed['BsmtFinSF2'].fillna(53.0, inplace = True) #mean\n",
    "test_data_frame_trimmed['BsmtUnfSF'].fillna(554.0, inplace = True) #mean\n",
    "test_data_frame_trimmed['TotalBsmtSF'].fillna(1046.0, inplace = True) #mean\n",
    "test_data_frame_trimmed['BsmtFullBath'].fillna(0.0, inplace = True) #Mode & mean\n",
    "test_data_frame_trimmed['BsmtHalfBath'].fillna(0.0, inplace = True)# MOde & mean\n",
    "test_data_frame_trimmed['KitchenQual'].fillna('TA', inplace = True) # mode\n",
    "test_data_frame_trimmed['Functional'].fillna('Typ', inplace = True)# mode\n",
    "test_data_frame_trimmed['GarageCars'].fillna(2.0, inplace = True) # mode\n",
    "test_data_frame_trimmed['GarageArea'].fillna(473.0, inplace = True) # mean\n",
    "test_data_frame_trimmed['SaleType'].fillna('WD', inplace = True) # mode"
   ]
  },
  {
   "cell_type": "code",
   "execution_count": 57,
   "metadata": {},
   "outputs": [],
   "source": [
    "# Same for the testing dataset (just copy & paste from above cell)\n",
    "# some of the NAs are created because the house doesn't have the feature, rather than missing data\n",
    "# for ordinal columns, transform it into numbers\n",
    "# With Missing values\n",
    "\n",
    "levels = {'No' : 0, \"Po\": 1, \"Fa\": 2, \"TA\": 3, \"Gd\": 4, \"Ex\": 5}\n",
    "ord_list = ['GarageQual','GarageCond','FireplaceQu', 'BsmtCond', 'BsmtQual', 'PoolQC']\n",
    "for name in ord_list:\n",
    "    test_data_frame_trimmed[name].fillna('No', inplace = True)\n",
    "    test_data_frame_trimmed[name] = test_data_frame_trimmed[name].map(levels).astype(int)\n",
    "    \n",
    "test_data_frame_trimmed['BsmtExposure'].fillna('N', inplace = True)\n",
    "test_data_frame_trimmed['BsmtExposure'] = test_data_frame_trimmed['BsmtExposure'].map(\n",
    "    {'N': 0, \"No\": 1, \"Mn\": 2, \"Av\": 3, \"Gd\": 4}).astype(int)\n",
    "\n",
    "levels_2 = {'N': 0, \"Unf\": 1, \"LwQ\": 2, \"Rec\": 3, \"BLQ\": 4, \"ALQ\": 5, \"GLQ\": 6}\n",
    "test_data_frame_trimmed['BsmtFinType1'].fillna('N', inplace = True)\n",
    "test_data_frame_trimmed['BsmtFinType1'] = test_data_frame_trimmed['BsmtFinType1'].map(levels_2).astype(int)\n",
    "test_data_frame_trimmed['BsmtFinType2'].fillna('N', inplace = True)\n",
    "test_data_frame_trimmed['BsmtFinType2'] = test_data_frame_trimmed['BsmtFinType2'].map(levels_2).astype(int)\n",
    "\n",
    "test_data_frame_trimmed['GarageFinish'].fillna('N', inplace = True)\n",
    "test_data_frame_trimmed['GarageFinish'] = test_data_frame_trimmed['GarageFinish'].map(\n",
    "    {'N': 0, \"Unf\": 1, \"RFn\": 2, \"Fin\": 3}).astype(int)\n",
    "\n",
    "\n",
    "test_data_frame_trimmed['Fence'].fillna('N', inplace = True)\n",
    "test_data_frame_trimmed['Fence'] = test_data_frame_trimmed['Fence'].map(\n",
    "    {'N': 0, \"MnWw\": 1, \"GdWo\": 2, \"MnPrv\": 3, \"GdPrv\": 4}).astype(int)\n",
    "# without missing values, but clearly ordinal \n",
    "ordinal_list = ['ExterQual','ExterCond','HeatingQC', 'KitchenQual']\n",
    "for name in ordinal_list: \n",
    "    test_data_frame_trimmed[name] = test_data_frame_trimmed[name].map(levels).astype(int)\n",
    "\n",
    "test_data_frame_trimmed['Functional'] = test_data_frame_trimmed['Functional'].map(\n",
    "    {None: 0, \"Sal\": 1, \"Sev\": 2, \"Maj2\": 3, \"Maj1\": 4, \n",
    "         \"Mod\": 5, \"Min2\": 6, \"Min1\": 7, \"Typ\": 8}).astype(int)"
   ]
  },
  {
   "cell_type": "code",
   "execution_count": 58,
   "metadata": {},
   "outputs": [
    {
     "name": "stdout",
     "output_type": "stream",
     "text": [
      "Alley 1365\n",
      "MasVnrType 8\n",
      "Electrical 1\n",
      "GarageType 81\n",
      "MiscFeature 1402\n"
     ]
    }
   ],
   "source": [
    "for i, name in enumerate(train_data_frame_trimmed.columns):\n",
    "    if sum(pd.isna(train_data_frame_trimmed[name])) > 0:\n",
    "        print (name, sum(pd.isna(train_data_frame_trimmed[name])))"
   ]
  },
  {
   "cell_type": "code",
   "execution_count": 59,
   "metadata": {},
   "outputs": [],
   "source": [
    "# Others\n",
    "train_data_frame_trimmed['Alley'].fillna('No Alley', inplace = True)\n",
    "train_data_frame_trimmed['MiscFeature'].fillna('No MiscFeatures', inplace = True)\n",
    "train_data_frame_trimmed['MasVnrType'].fillna('None', inplace = True)\n",
    "train_data_frame_trimmed['GarageType'].fillna('Attchd', inplace = True)\n",
    "train_data_frame_trimmed['Electrical'].fillna('Sbrkr', inplace = True)\n",
    "# Transform Central Air to 0,1 \n",
    "train_data_frame_trimmed[\"CentralAir\"] = train_data_frame_trimmed[\"CentralAir\"].astype('category')\n",
    "train_data_frame_trimmed[\"CentralAir\"] = train_data_frame_trimmed[\"CentralAir\"].cat.codes"
   ]
  },
  {
   "cell_type": "code",
   "execution_count": 60,
   "metadata": {},
   "outputs": [],
   "source": [
    "# Misunderstanding\n",
    "test_data_frame_trimmed['Alley'].fillna('No Alley', inplace = True)\n",
    "test_data_frame_trimmed['MiscFeature'].fillna('No MiscFeatures', inplace = True)\n",
    "test_data_frame_trimmed['MasVnrType'].fillna('None', inplace = True)\n",
    "test_data_frame_trimmed['GarageType'].fillna('Attchd', inplace = True)\n",
    "test_data_frame_trimmed['Electrical'].fillna('Sbrkr', inplace = True)\n",
    "# Transform Central Air to 0,1 \n",
    "test_data_frame_trimmed[\"CentralAir\"] = test_data_frame_trimmed[\"CentralAir\"].astype('category')\n",
    "test_data_frame_trimmed[\"CentralAir\"] = test_data_frame_trimmed[\"CentralAir\"].cat.codes"
   ]
  },
  {
   "cell_type": "code",
   "execution_count": 61,
   "metadata": {},
   "outputs": [],
   "source": [
    "test_NA_name = []\n",
    "for i, name in enumerate(test_data_frame_trimmed.columns):\n",
    "    if sum(pd.isna(test_data_frame_trimmed[name])) > 0:\n",
    "        print (name, sum(pd.isna(test_data_frame_trimmed[name])))\n",
    "        test_NA_name.append(name)\n",
    "        "
   ]
  },
  {
   "cell_type": "code",
   "execution_count": 63,
   "metadata": {},
   "outputs": [],
   "source": [
    "train_data_frame_trimmed.to_csv('train_trimmed.csv')\n",
    "test_data_frame_trimmed.to_csv('test_trimmed.csv')"
   ]
  }
 ],
 "metadata": {
  "kernelspec": {
   "display_name": "Python 3",
   "language": "python",
   "name": "python3"
  },
  "language_info": {
   "codemirror_mode": {
    "name": "ipython",
    "version": 3
   },
   "file_extension": ".py",
   "mimetype": "text/x-python",
   "name": "python",
   "nbconvert_exporter": "python",
   "pygments_lexer": "ipython3",
   "version": "3.5.4"
  }
 },
 "nbformat": 4,
 "nbformat_minor": 2
}
