{
 "cells": [
  {
   "cell_type": "code",
   "execution_count": 205,
   "metadata": {},
   "outputs": [],
   "source": [
    "# import libraries and data\n",
    "import numpy as np\n",
    "import pandas as pd\n",
    "from sklearn.linear_model import LinearRegression\n",
    "from sklearn.linear_model import Lasso\n",
    "from sklearn.linear_model import ElasticNet\n",
    "from sklearn.linear_model import Ridge\n",
    "from sklearn.metrics import mean_squared_error\n",
    "from sklearn.decomposition import PCA"
   ]
  },
  {
   "cell_type": "code",
   "execution_count": 206,
   "metadata": {},
   "outputs": [],
   "source": [
    "training_df = pd.read_csv('train_trimmed.csv',index_col=0)\n",
    "testing_df = pd.read_csv('test_trimmed.csv', index_col=0)"
   ]
  },
  {
   "cell_type": "code",
   "execution_count": 207,
   "metadata": {},
   "outputs": [],
   "source": [
    "label = np.log(training_df['SalePrice']) # log price -- convention \n",
    "training_features = training_df.drop(['SalePrice'], axis = 1)"
   ]
  },
  {
   "cell_type": "code",
   "execution_count": 208,
   "metadata": {},
   "outputs": [
    {
     "name": "stdout",
     "output_type": "stream",
     "text": [
      "(1456, 78)\n",
      "GarageYrBlt   YearRemodAdd    0.615560\n",
      "YearRemodAdd  GarageYrBlt     0.615560\n",
      "SalePrice     1stFlrSF        0.625235\n",
      "1stFlrSF      SalePrice       0.625235\n",
      "KitchenQual   YearRemodAdd    0.625260\n",
      "YearRemodAdd  KitchenQual     0.625260\n",
      "BsmtQual      OverallQual     0.625421\n",
      "OverallQual   BsmtQual        0.625421\n",
      "GrLivArea     FullBath        0.635161\n",
      "FullBath      GrLivArea       0.635161\n",
      "BsmtQual      BsmtCond        0.635769\n",
      "BsmtCond      BsmtQual        0.635769\n",
      "SalePrice     GarageArea      0.636964\n",
      "GarageArea    SalePrice       0.636964\n",
      "SalePrice     TotalBsmtSF     0.646584\n",
      "TotalBsmtSF   SalePrice       0.646584\n",
      "GarageCars    SalePrice       0.649256\n",
      "SalePrice     GarageCars      0.649256\n",
      "BsmtFinSF1    BsmtFullBath    0.661933\n",
      "BsmtFullBath  BsmtFinSF1      0.661933\n",
      "KitchenQual   SalePrice       0.666217\n",
      "SalePrice     KitchenQual     0.666217\n",
      "KitchenQual   OverallQual     0.667869\n",
      "OverallQual   KitchenQual     0.667869\n",
      "BedroomAbvGr  TotRmsAbvGrd    0.679346\n",
      "TotRmsAbvGrd  BedroomAbvGr    0.679346\n",
      "2ndFlrSF      GrLivArea       0.687430\n",
      "GrLivArea     2ndFlrSF        0.687430\n",
      "SalePrice     ExterQual       0.694628\n",
      "ExterQual     SalePrice       0.694628\n",
      "              KitchenQual     0.712513\n",
      "KitchenQual   ExterQual       0.712513\n",
      "GrLivArea     SalePrice       0.720516\n",
      "SalePrice     GrLivArea       0.720516\n",
      "BsmtFinSF1    BsmtFinType1    0.721871\n",
      "BsmtFinType1  BsmtFinSF1      0.721871\n",
      "OverallQual   ExterQual       0.721973\n",
      "ExterQual     OverallQual     0.721973\n",
      "GarageYrBlt   YearBuilt       0.776578\n",
      "YearBuilt     GarageYrBlt     0.776578\n",
      "BsmtFinType2  BsmtFinSF2      0.788940\n",
      "BsmtFinSF2    BsmtFinType2    0.788940\n",
      "1stFlrSF      TotalBsmtSF     0.800759\n",
      "TotalBsmtSF   1stFlrSF        0.800759\n",
      "SalePrice     OverallQual     0.800858\n",
      "OverallQual   SalePrice       0.800858\n",
      "TotRmsAbvGrd  GrLivArea       0.833979\n",
      "GrLivArea     TotRmsAbvGrd    0.833979\n",
      "FireplaceQu   Fireplaces      0.864979\n",
      "Fireplaces    FireplaceQu     0.864979\n",
      "GarageCars    GarageArea      0.886882\n",
      "GarageArea    GarageCars      0.886882\n",
      "PoolQC        PoolArea        0.930979\n",
      "PoolArea      PoolQC          0.930979\n",
      "GarageQual    GarageCond      0.959164\n",
      "GarageCond    GarageQual      0.959164\n",
      "dtype: float64\n"
     ]
    }
   ],
   "source": [
    "# correlation Part\n",
    "# observe there is quite strong correlation between variables \n",
    "# so we apply PCA to handle this \n",
    "# However we will apply PCA after one-hot encoding\n",
    "correlation_matrix = training_df.corr().abs()\n",
    "s = correlation_matrix.unstack()\n",
    "so = s.sort_values(kind=\"quicksort\")\n",
    "so = so[:2756]\n",
    "print (training_df.shape)\n",
    "print (so[2700:])"
   ]
  },
  {
   "cell_type": "code",
   "execution_count": 209,
   "metadata": {},
   "outputs": [],
   "source": [
    "# split the dataset into training and validation\n",
    "valid_df = training_features.iloc[:100]\n",
    "training_df = training_features.iloc[100:]\n",
    "valid_label = label.iloc[:100]\n",
    "training_label = label.iloc[100:]"
   ]
  },
  {
   "cell_type": "code",
   "execution_count": 210,
   "metadata": {},
   "outputs": [
    {
     "name": "stdout",
     "output_type": "stream",
     "text": [
      "['MSZoning', 'Street', 'Alley', 'LotShape', 'LandContour', 'LotConfig', 'LandSlope', 'Neighborhood', 'Condition1', 'Condition2', 'BldgType', 'HouseStyle', 'RoofStyle', 'RoofMatl', 'Exterior1st', 'Exterior2nd', 'MasVnrType', 'Foundation', 'Heating', 'Electrical', 'GarageType', 'PavedDrive', 'MiscFeature', 'SaleType', 'SaleCondition']\n",
      "(1356, 228)\n",
      "(100, 228)\n",
      "(1459, 228)\n"
     ]
    }
   ],
   "source": [
    "# categorical variables --> one hot encoding\n",
    "\n",
    "# find out which columns is categorical\n",
    "cat_variables = []\n",
    "num_variables = []\n",
    "for name in training_df.columns:\n",
    "    # print (training_features[name].dtype.name)\n",
    "    if training_df[name].dtype.name == 'object':\n",
    "        cat_variables.append(name)\n",
    "    else:\n",
    "        num_variables.append(name)\n",
    "print (cat_variables)\n",
    "\n",
    "cat_dict = training_df[ cat_variables ].to_dict( orient = 'records' )\n",
    "cat_dict_valid = valid_df[ cat_variables ].to_dict( orient = 'records' )\n",
    "cat_dict_test = testing_df[cat_variables].to_dict(orient = 'records')\n",
    "\n",
    "training_numerical = training_df[ num_variables ].as_matrix()\n",
    "valid_numerical = valid_df[ num_variables].as_matrix()\n",
    "testing_numerical = testing_df[num_variables]\n",
    "#max_train = np.amax( training_numerical, 0 )\n",
    "\n",
    "#x_num_train = training_numerical / max_train\n",
    "#x_num_valid = valid_numerical/ max_train\n",
    "#x_num_test = testing_numerical / max_train\t\t# scale test by max_train\n",
    "from sklearn.feature_extraction import DictVectorizer as DV\n",
    "# vectorize\n",
    "\n",
    "vectorizer = DV( sparse = False )\n",
    "vec_x_cat_train = vectorizer.fit_transform( cat_dict )\n",
    "vec_x_cat_test = vectorizer.transform( cat_dict_test)\n",
    "vec_x_cat_valid = vectorizer.transform (cat_dict_valid)\n",
    "training_complete = np.hstack((training_numerical,vec_x_cat_train))\n",
    "valid_complete = np.hstack((valid_numerical,vec_x_cat_valid))\n",
    "testing_complete = np.hstack((testing_numerical,vec_x_cat_test))\n",
    "\n",
    "print (training_complete.shape)\n",
    "print (valid_complete.shape)\n",
    "print (testing_complete.shape)\n",
    "# # now we have one-hot encoding and normalized numerical variable \n",
    "# # next step we apply BernoulliRBM \n",
    "# from sklearn.neural_network import BernoulliRBM\n",
    "# RBM = BernoulliRBM(n_components=80)\n",
    "# training_complete_RBM_transform = RBM.fit_transform(training_complete)\n",
    "# testing_complete_RBM_transform = RBM.fit_transform(test_complete)"
   ]
  },
  {
   "cell_type": "code",
   "execution_count": 211,
   "metadata": {},
   "outputs": [
    {
     "name": "stdout",
     "output_type": "stream",
     "text": [
      "(1356, 178)\n",
      "(100, 178)\n",
      "(1459, 178)\n",
      "Explained variation per principal component (PCA): 0.999999999862411\n"
     ]
    }
   ],
   "source": [
    "# Apply PCA here\n",
    "pca = PCA(n_components=178) \n",
    "training_complete_1 = pca.fit_transform(training_complete)\n",
    "valid_complete_1 = pca.transform(valid_complete)\n",
    "testing_complete_1 = pca.transform(testing_complete)\n",
    "print (training_complete_1.shape)\n",
    "print (valid_complete_1.shape)\n",
    "print (testing_complete_1.shape)\n",
    "print ('Explained variation per principal component (PCA): {}'.format(np.sum(pca.explained_variance_ratio_)))"
   ]
  },
  {
   "cell_type": "code",
   "execution_count": 216,
   "metadata": {},
   "outputs": [
    {
     "name": "stdout",
     "output_type": "stream",
     "text": [
      "0.009002728817546235\n",
      "0.015253004720264824\n"
     ]
    }
   ],
   "source": [
    "error = []\n",
    "# Linear Regression -- used as benchmark\n",
    "linear_regression = LinearRegression()\n",
    "linear_regression.fit(training_complete_1, training_label)\n",
    "pred_labels = linear_regression.predict(testing_complete_1)\n",
    "pred_valid = linear_regression.predict(valid_complete_1)\n",
    "pred_train = linear_regression.predict(training_complete_1)\n",
    "print (mean_squared_error(pred_train, training_label))\n",
    "print (mean_squared_error(pred_valid, valid_label))\n",
    "error.append(mean_squared_error(pred_valid, valid_label))\n",
    "d = {'id': testing_numerical.index.values, 'SalePrice':np.exp(pred_labels) }\n",
    "submission = pd.DataFrame(data = d)\n",
    "submission.set_index(keys = 'id', inplace = True)\n",
    "submission.to_csv('submission.csv')"
   ]
  },
  {
   "cell_type": "code",
   "execution_count": 213,
   "metadata": {},
   "outputs": [
    {
     "name": "stdout",
     "output_type": "stream",
     "text": [
      "0.011312655615282923\n",
      "0.01788820864207479\n"
     ]
    }
   ],
   "source": [
    "# still linear model - LASSO regression\n",
    "linear_regression_lasso = Lasso(alpha = 0.001, max_iter=50000)\n",
    "\n",
    "linear_regression_lasso.fit(training_complete_1, training_label)\n",
    "pred_labels_1 = linear_regression_lasso.predict(testing_complete_1)\n",
    "pred_valid = linear_regression_lasso.predict(valid_complete_1)\n",
    "pred_train = linear_regression_lasso.predict(training_complete_1)\n",
    "print (mean_squared_error(pred_train, training_label))\n",
    "print (mean_squared_error(pred_valid, valid_label))\n",
    "error.append(mean_squared_error(pred_valid, valid_label))"
   ]
  },
  {
   "cell_type": "code",
   "execution_count": 214,
   "metadata": {},
   "outputs": [
    {
     "name": "stdout",
     "output_type": "stream",
     "text": [
      "0.009011160430043609\n",
      "0.0151436415424942\n"
     ]
    }
   ],
   "source": [
    "# still linear model - RIDGE regression\n",
    "linear_regression_ridge = Ridge(alpha = 0.39, max_iter=50000)\n",
    "linear_regression_ridge.fit(training_complete_1, training_label)\n",
    "pred_labels_2 = linear_regression_ridge.predict(testing_complete_1)\n",
    "pred_valid = linear_regression_ridge.predict(valid_complete_1)\n",
    "pred_train = linear_regression_ridge.predict(training_complete_1)\n",
    "print (mean_squared_error(pred_train, training_label))\n",
    "print (mean_squared_error(pred_valid, valid_label))\n",
    "error.append(mean_squared_error(pred_valid, valid_label))"
   ]
  },
  {
   "cell_type": "code",
   "execution_count": 215,
   "metadata": {},
   "outputs": [
    {
     "name": "stdout",
     "output_type": "stream",
     "text": [
      "0.009849219431337014\n",
      "0.01627253882371876\n"
     ]
    }
   ],
   "source": [
    "# still linear model - ElasticNet regression\n",
    "linear_regression_ElasticNet = ElasticNet(alpha = 0.0006, max_iter=50000, l1_ratio = 0.53)\n",
    "\n",
    "linear_regression_ElasticNet.fit(training_complete_1, training_label)\n",
    "pred_labels_3 = linear_regression_ElasticNet.predict(testing_complete_1)\n",
    "pred_valid = linear_regression_ElasticNet.predict(valid_complete_1)\n",
    "pred_train = linear_regression_ElasticNet.predict(training_complete_1)\n",
    "print (mean_squared_error(pred_train, training_label))\n",
    "print (mean_squared_error(pred_valid, valid_label))\n",
    "error.append(mean_squared_error(pred_valid, valid_label))"
   ]
  },
  {
   "cell_type": "code",
   "execution_count": 217,
   "metadata": {},
   "outputs": [
    {
     "ename": "IndexError",
     "evalue": "list index out of range",
     "output_type": "error",
     "traceback": [
      "\u001b[0;31m---------------------------------------------------------------------------\u001b[0m",
      "\u001b[0;31mIndexError\u001b[0m                                Traceback (most recent call last)",
      "\u001b[0;32m<ipython-input-217-554ef4a0cfa0>\u001b[0m in \u001b[0;36m<module>\u001b[0;34m()\u001b[0m\n\u001b[0;32m----> 1\u001b[0;31m \u001b[0mprint\u001b[0m \u001b[0;34m(\u001b[0m\u001b[0merror\u001b[0m\u001b[0;34m[\u001b[0m\u001b[0;34m-\u001b[0m\u001b[0;36m1\u001b[0m\u001b[0;34m]\u001b[0m\u001b[0;34m,\u001b[0m \u001b[0merror\u001b[0m\u001b[0;34m[\u001b[0m\u001b[0;34m-\u001b[0m\u001b[0;36m2\u001b[0m\u001b[0;34m]\u001b[0m\u001b[0;34m)\u001b[0m\u001b[0;34m\u001b[0m\u001b[0m\n\u001b[0m",
      "\u001b[0;31mIndexError\u001b[0m: list index out of range"
     ]
    }
   ],
   "source": [
    "print (error[-1], error[-2])"
   ]
  },
  {
   "cell_type": "code",
   "execution_count": 218,
   "metadata": {},
   "outputs": [],
   "source": [
    "# adding up three results\n",
    "results = (pred_labels_1 + pred_labels_2 + pred_labels_3)/3\n",
    "d = {'id': testing_numerical.index.values, 'SalePrice':np.exp(results) }\n",
    "submission = pd.DataFrame(data = d)\n",
    "submission.set_index(keys = 'id', inplace = True)\n",
    "submission.to_csv('submission.csv')"
   ]
  },
  {
   "cell_type": "code",
   "execution_count": 126,
   "metadata": {},
   "outputs": [
    {
     "name": "stdout",
     "output_type": "stream",
     "text": [
      "40916972.99833862\n",
      "582864629.9843149\n"
     ]
    }
   ],
   "source": [
    "# Gradient Boosting \n",
    "# Cross validation (n_estimators)\n",
    "from sklearn.ensemble import GradientBoostingRegressor\n",
    "regre = GradientBoostingRegressor(learning_rate=0.05,\n",
    "                                 max_depth=6, n_estimators = 100)\n",
    "regre.fit(training_complete, training_label)\n",
    "pred_labels = regre.predict(testing_complete)\n",
    "pred_valid = regre.predict(valid_complete)\n",
    "pred_train = regre.predict(training_complete)\n",
    "print (mean_squared_error(pred_train, training_label))\n",
    "print (mean_squared_error(pred_valid, valid_label))"
   ]
  },
  {
   "cell_type": "code",
   "execution_count": null,
   "metadata": {},
   "outputs": [],
   "source": [
    "# Binarize the categorical variables left \n",
    "# create summarized variables \n",
    "# Tree models "
   ]
  }
 ],
 "metadata": {
  "kernelspec": {
   "display_name": "Python 3",
   "language": "python",
   "name": "python3"
  },
  "language_info": {
   "codemirror_mode": {
    "name": "ipython",
    "version": 3
   },
   "file_extension": ".py",
   "mimetype": "text/x-python",
   "name": "python",
   "nbconvert_exporter": "python",
   "pygments_lexer": "ipython3",
   "version": "3.5.4"
  }
 },
 "nbformat": 4,
 "nbformat_minor": 2
}
